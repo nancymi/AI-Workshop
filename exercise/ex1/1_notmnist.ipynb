{
 "cells": [
  {
   "cell_type": "markdown",
   "metadata": {
    "colab_type": "text",
    "id": "5hIbr52I7Z7U"
   },
   "source": [
    "Deep Learning\n",
    "=============\n",
    "\n",
    "Assignment 1\n",
    "------------\n",
    "\n",
    "The objective of this assignment is to learn about simple data curation practices, and familiarize you with some of the data we'll be reusing later.\n",
    "\n",
    "This notebook uses the [notMNIST](http://yaroslavvb.blogspot.com/2011/09/notmnist-dataset.html) dataset to be used with python experiments. This dataset is designed to look like the classic [MNIST](http://yann.lecun.com/exdb/mnist/) dataset, while looking a little more like real data: it's a harder task, and the data is a lot less 'clean' than MNIST."
   ]
  },
  {
   "cell_type": "code",
   "execution_count": 3,
   "metadata": {
    "cellView": "both",
    "colab": {
     "autoexec": {
      "startup": false,
      "wait_interval": 0
     }
    },
    "colab_type": "code",
    "collapsed": false,
    "id": "apJbCsBHl-2A"
   },
   "outputs": [],
   "source": [
    "# These are all the modules we'll be using later. Make sure you can import them\n",
    "# before proceeding further.\n",
    "from __future__ import print_function\n",
    "import matplotlib.pyplot as plt\n",
    "import numpy as np\n",
    "import os\n",
    "import sys\n",
    "import tarfile\n",
    "from IPython.display import display, Image\n",
    "from scipy import ndimage\n",
    "from sklearn.linear_model import LogisticRegression\n",
    "from six.moves.urllib.request import urlretrieve\n",
    "from six.moves import cPickle as pickle\n",
    "\n",
    "# Config the matplotlib backend as plotting inline in IPython\n",
    "%matplotlib inline"
   ]
  },
  {
   "cell_type": "markdown",
   "metadata": {},
   "source": [
    "Loading data that has been downloaded before, there will be 3 set of datas, train data is used to train logistic model, validation data will be used to validate the train result of every stage and test data will be used to test the classification accuracy."
   ]
  },
  {
   "cell_type": "code",
   "execution_count": 4,
   "metadata": {
    "collapsed": false
   },
   "outputs": [
    {
     "name": "stdout",
     "output_type": "stream",
     "text": [
      "train_dataset size:\n",
      "(6400, 784)\n",
      "train label size:\n",
      "(6400, 10)\n"
     ]
    }
   ],
   "source": [
    "with open('notMNIST.pickle', 'rb') as f:\n",
    "    data_set = pickle.load(f)\n",
    "image_size = 28\n",
    "num_features = image_size * image_size\n",
    "train_size = 6400\n",
    "valid_size = 1000\n",
    "test_size = 1000\n",
    "train_dataset = np.reshape(data_set['train_dataset'], (-1, num_features))[:train_size,:]\n",
    "train_label = data_set['train_labels'][:train_size]\n",
    "valid_dataset = data_set['valid_dataset'].reshape(valid_size, num_features)[:valid_size,:]\n",
    "valid_label = data_set['valid_labels'][:valid_size]\n",
    "test_dataset = data_set['test_dataset'].reshape(test_size, num_features)[:test_size,:]\n",
    "test_label = data_set['test_labels'][:test_size]\n",
    "num_classes = 10\n",
    "\n",
    "# turn our y label from index in 1 to 10 into array of R1x10 for example turn 2 into [0,0,1,0,0,0,0,0,0,0]\n",
    "def index_to_classes(y, num_classes):\n",
    "    m=y.shape[0]\n",
    "    Y=np.zeros((m, num_classes))\n",
    "    for i in range(num_classes):\n",
    "        Y[:,i]=np.array(y==i,dtype=int)\n",
    "    return Y\n",
    "Y_train = index_to_classes(train_label, 10)\n",
    "print(\"train_dataset size:\")\n",
    "print(np.shape(train_dataset))\n",
    "print(\"train label size:\")\n",
    "print(np.shape(Y_train))"
   ]
  },
  {
   "cell_type": "markdown",
   "metadata": {},
   "source": [
    "Lets init our W variables and b bias with random"
   ]
  },
  {
   "cell_type": "code",
   "execution_count": 5,
   "metadata": {
    "collapsed": false
   },
   "outputs": [],
   "source": [
    "def softMax(logits):\n",
    "    # prevent exp overflow\n",
    "    logits = logits / np.max(logits) * 10\n",
    "    return np.exp(logits) / np.reshape(np.sum(np.exp(logits),1), (np.shape(logits)[0],1))\n",
    "def LossFuction(X,W,b,Y):\n",
    "    m = X.shape[0]\n",
    "    p = softMax(np.dot(X,W) + b)\n",
    "    L = -np.sum(Y * np.log(p)) / m\n",
    "    db = -np.sum(Y * (Y - p), 0) / m \n",
    "    dW = -np.dot(X.T, Y * (Y - p)) / m\n",
    "    return L, dW, db\n",
    "def predict(X,W,b):\n",
    "    return np.argmax(softMax(np.dot(X, W) + b), axis=1)\n",
    "def accuracy(predict,y):\n",
    "    return np.sum(np.array(predict == y, dtype=int)) * 100 / np.shape(y)[0] "
   ]
  },
  {
   "cell_type": "code",
   "execution_count": 6,
   "metadata": {
    "collapsed": false
   },
   "outputs": [
    {
     "name": "stdout",
     "output_type": "stream",
     "text": [
      "The he Loss is: 2.33611444772\n",
      "Validate accuracy is: 9%\n",
      "The he Loss is: 1.48574822115\n",
      "Validate accuracy is: 66%\n",
      "The he Loss is: 1.17612849377\n",
      "Validate accuracy is: 71%\n",
      "The he Loss is: 1.0395270731\n",
      "Validate accuracy is: 72%\n",
      "The he Loss is: 0.973879916637\n",
      "Validate accuracy is: 73%\n",
      "The he Loss is: 0.949316017993\n",
      "Validate accuracy is: 74%\n",
      "The he Loss is: 0.93545425845\n",
      "Validate accuracy is: 75%\n",
      "The he Loss is: 0.925988621297\n",
      "Validate accuracy is: 75%\n",
      "The he Loss is: 0.919612448768\n",
      "Validate accuracy is: 75%\n",
      "The he Loss is: 0.916183384452\n",
      "Validate accuracy is: 75%\n",
      "Test accuracy is: 81%\n",
      "The letter is I, you predict I\n",
      "The letter is C, you predict C\n",
      "The letter is I, you predict J\n",
      "The letter is D, you predict E\n",
      "The letter is B, you predict E\n",
      "The letter is F, you predict F\n",
      "The letter is E, you predict E\n",
      "The letter is B, you predict B\n",
      "The letter is D, you predict D\n",
      "The letter is F, you predict F\n",
      "The letter is G, you predict G\n",
      "The letter is E, you predict E\n",
      "The letter is C, you predict C\n",
      "The letter is C, you predict C\n",
      "The letter is G, you predict G\n",
      "The letter is H, you predict H\n",
      "The letter is A, you predict A\n",
      "The letter is B, you predict E\n",
      "The letter is C, you predict C\n",
      "The letter is F, you predict F\n"
     ]
    }
   ],
   "source": [
    "W = np.random.random((num_features,num_classes))\n",
    "b = np.random.random((1,num_classes))\n",
    "loop_count = 10000\n",
    "batch_size = 64\n",
    "index = 0\n",
    "alpha = 0.01\n",
    "for i in range(loop_count):\n",
    "    index = (batch_size * i) % train_size\n",
    "    batch_data = train_dataset[index:index+batch_size,:]\n",
    "    batch_label = Y_train[index:index+batch_size]\n",
    "    L,dW,db = LossFuction(batch_data,W,b,batch_label)\n",
    "    if i % (loop_count // 10) == 0:\n",
    "        print(\"The he Loss is:\",L)\n",
    "        print(\"Validate accuracy is: {}%\".format(accuracy(predict(valid_dataset,W,b),valid_label)))\n",
    "    W = W - alpha * dW\n",
    "    b = b - alpha * db\n",
    "print(\"Test accuracy is: {}%\".format(accuracy(predict(test_dataset,W,b),test_label)))\n",
    "predicts = predict(test_dataset,W,b)\n",
    "\n",
    "for id, iv in enumerate(predicts[:20]):\n",
    "    print(\"The letter is {}, you predict {}\".format(chr(65 + test_label[id]), chr(65 + iv)))"
   ]
  },
  {
   "cell_type": "code",
   "execution_count": null,
   "metadata": {
    "collapsed": true
   },
   "outputs": [],
   "source": []
  }
 ],
 "metadata": {
  "colab": {
   "default_view": {},
   "name": "1_notmnist.ipynb",
   "provenance": [],
   "version": "0.3.2",
   "views": {}
  },
  "kernelspec": {
   "display_name": "Python 2",
   "language": "python",
   "name": "python2"
  },
  "language_info": {
   "codemirror_mode": {
    "name": "ipython",
    "version": 2
   },
   "file_extension": ".py",
   "mimetype": "text/x-python",
   "name": "python",
   "nbconvert_exporter": "python",
   "pygments_lexer": "ipython2",
   "version": "2.7.6"
  }
 },
 "nbformat": 4,
 "nbformat_minor": 0
}
